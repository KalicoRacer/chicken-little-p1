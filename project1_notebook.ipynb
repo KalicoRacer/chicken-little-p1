{
 "cells": [
  {
   "cell_type": "code",
   "execution_count": null,
   "metadata": {},
   "outputs": [],
   "source": [
    "%matplotlib inline\n",
    "# Dependencies\n",
    "import matplotlib.pyplot as plt\n",
    "import pandas as pd\n",
    "import numpy as np\n",
    "import requests\n",
    "import json\n",
    "from citipy import citipy\n",
    "\n",
    "# Google developer API key\n",
    "from config import gkey"
   ]
  },
  {
   "cell_type": "code",
   "execution_count": null,
   "metadata": {},
   "outputs": [],
   "source": [
    "# File to Load (Remember to change these)\n",
    "[PLACEHOLDER] = \"data/[DATASET].csv\"\n",
    "[PLACEHOLDER] = \"data/[DATASET].csv\"\n",
    "\n",
    "# Read the City and Ride Data\n",
    "[X] = pd.read_csv(city_data_to_load)\n",
    "[Y] = pd.read_csv(ride_data_to_load)\n",
    "\n",
    "print(len(city_data))\n",
    "print(len(ride_data))\n",
    "\n",
    "# Combine the data into a single dataset\n",
    "combined_data = pd.merge([X], [Y])\n",
    "\n",
    "print(len(combined_data))\n",
    "\n",
    "# Display the data table for preview\n",
    "combined_data.head()"
   ]
  }
 ],
 "metadata": {
  "kernelspec": {
   "display_name": "Python 3",
   "language": "python",
   "name": "python3"
  },
  "language_info": {
   "codemirror_mode": {
    "name": "ipython",
    "version": 3
   },
   "file_extension": ".py",
   "mimetype": "text/x-python",
   "name": "python",
   "nbconvert_exporter": "python",
   "pygments_lexer": "ipython3",
   "version": "3.6.8"
  }
 },
 "nbformat": 4,
 "nbformat_minor": 2
}
